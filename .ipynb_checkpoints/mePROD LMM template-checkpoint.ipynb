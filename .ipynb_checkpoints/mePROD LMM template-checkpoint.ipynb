{
 "cells": [
  {
   "cell_type": "code",
   "execution_count": 1,
   "metadata": {},
   "outputs": [
    {
     "name": "stdout",
     "output_type": "stream",
     "text": [
      "Requirement already up-to-date: mssuite in c:\\users\\jasmin\\anaconda3\\lib\\site-packages (1.8)\n",
      "Requirement already satisfied, skipping upgrade: scipy in c:\\users\\jasmin\\anaconda3\\lib\\site-packages (from mssuite) (1.4.1)\n",
      "Requirement already satisfied, skipping upgrade: matplotlib in c:\\users\\jasmin\\anaconda3\\lib\\site-packages (from mssuite) (3.1.3)\n",
      "Requirement already satisfied, skipping upgrade: numpy in c:\\users\\jasmin\\anaconda3\\lib\\site-packages (from mssuite) (1.18.1)\n",
      "Requirement already satisfied, skipping upgrade: DynaTMT-py in c:\\users\\jasmin\\anaconda3\\lib\\site-packages (from mssuite) (0.2.2)\n",
      "Requirement already satisfied, skipping upgrade: statsmodels in c:\\users\\jasmin\\anaconda3\\lib\\site-packages (from mssuite) (0.11.0)\n",
      "Requirement already satisfied, skipping upgrade: seaborn in c:\\users\\jasmin\\anaconda3\\lib\\site-packages (from mssuite) (0.10.0)\n",
      "Requirement already satisfied, skipping upgrade: pandas in c:\\users\\jasmin\\anaconda3\\lib\\site-packages (from mssuite) (1.3.5)\n",
      "Requirement already satisfied, skipping upgrade: kiwisolver>=1.0.1 in c:\\users\\jasmin\\anaconda3\\lib\\site-packages (from matplotlib->mssuite) (1.1.0)\n",
      "Requirement already satisfied, skipping upgrade: cycler>=0.10 in c:\\users\\jasmin\\anaconda3\\lib\\site-packages (from matplotlib->mssuite) (0.10.0)\n",
      "Requirement already satisfied, skipping upgrade: pyparsing!=2.0.4,!=2.1.2,!=2.1.6,>=2.0.1 in c:\\users\\jasmin\\anaconda3\\lib\\site-packages (from matplotlib->mssuite) (2.4.6)\n",
      "Requirement already satisfied, skipping upgrade: python-dateutil>=2.1 in c:\\users\\jasmin\\anaconda3\\lib\\site-packages (from matplotlib->mssuite) (2.8.1)\n",
      "Requirement already satisfied, skipping upgrade: patsy>=0.5 in c:\\users\\jasmin\\anaconda3\\lib\\site-packages (from statsmodels->mssuite) (0.5.1)\n",
      "Requirement already satisfied, skipping upgrade: pytz>=2017.3 in c:\\users\\jasmin\\anaconda3\\lib\\site-packages (from pandas->mssuite) (2019.3)\n",
      "Requirement already satisfied, skipping upgrade: setuptools in c:\\users\\jasmin\\anaconda3\\lib\\site-packages (from kiwisolver>=1.0.1->matplotlib->mssuite) (45.2.0.post20200210)\n",
      "Requirement already satisfied, skipping upgrade: six in c:\\users\\jasmin\\anaconda3\\lib\\site-packages (from cycler>=0.10->matplotlib->mssuite) (1.14.0)\n"
     ]
    }
   ],
   "source": [
    "!pip install --upgrade mssuite\n",
    "\n",
    "import pandas as pd\n",
    "import numpy as np\n",
    "import statsmodels.formula.api as smf\n",
    "import warnings\n",
    "from statsmodels.stats.multitest import multipletests, local_fdr\n",
    "from scipy.stats import zscore, uniform\n",
    "import matplotlib.pyplot as plt\n",
    "import DynaTMT.DynaTMT as mePROD\n",
    "import mssuite.mssuite as ms\n",
    "\n",
    "warnings.filterwarnings(\"ignore\")"
   ]
  },
  {
   "cell_type": "code",
   "execution_count": 2,
   "metadata": {
    "scrolled": true
   },
   "outputs": [
    {
     "name": "stdout",
     "output_type": "stream",
     "text": [
      "Checked                          bool\n",
      "Confidence                     object\n",
      "Identifying Node               object\n",
      "PSM Ambiguity                  object\n",
      "Annotated Sequence             object\n",
      "Modifications                  object\n",
      "# Proteins                      int64\n",
      "Master Protein Accessions      object\n",
      "Protein Accessions             object\n",
      "# Missed Cleavages              int64\n",
      "Charge                          int64\n",
      "DeltaScore                    float64\n",
      "DeltaCn                         int64\n",
      "Rank                            int64\n",
      "Search Engine Rank              int64\n",
      "m/z [Da]                      float64\n",
      "MH+ [Da]                      float64\n",
      "Theo. MH+ [Da]                float64\n",
      "DeltaM [ppm]                  float64\n",
      "Deltam/z [Da]                 float64\n",
      "Activation Type                object\n",
      "MS Order                       object\n",
      "Isolation Interference [%]    float64\n",
      "Average Reporter S/N          float64\n",
      "Ion Inject Time [ms]          float64\n",
      "RT [min]                      float64\n",
      "First Scan                      int64\n",
      "Spectrum File                  object\n",
      "File ID                        object\n",
      "Abundance: 126                float64\n",
      "Abundance: 127N               float64\n",
      "Abundance: 127C               float64\n",
      "Abundance: 128N               float64\n",
      "Abundance: 128C               float64\n",
      "Abundance: 129N               float64\n",
      "Abundance: 129C               float64\n",
      "Abundance: 131N               float64\n",
      "Quan Info                      object\n",
      "XCorr                         float64\n",
      "# Protein Groups                int64\n",
      "Contaminant                      bool\n",
      "Percolator q-Value            float64\n",
      "Percolator PEP                float64\n",
      "dtype: object\n"
     ]
    }
   ],
   "source": [
    "wd = \"C://Users/Jasmin/Desktop/JS55/fractionation/\"\n",
    "psms = pd.read_csv(wd+\"20230621_LU_LC2_MAA_JS_JS55_F_PSMs_removed channels.txt\",sep='\\t',header=0)# engine=\"openpyxl\"\n",
    "print(psms.dtypes)"
   ]
  },
  {
   "cell_type": "code",
   "execution_count": 3,
   "metadata": {},
   "outputs": [],
   "source": [
    "process = mePROD.PD_input(psms)"
   ]
  },
  {
   "cell_type": "code",
   "execution_count": 4,
   "metadata": {},
   "outputs": [
    {
     "name": "stdout",
     "output_type": "stream",
     "text": [
      "IT adjustment\n",
      "Done\n"
     ]
    }
   ],
   "source": [
    "process.IT_adjustment()"
   ]
  },
  {
   "cell_type": "code",
   "execution_count": 5,
   "metadata": {},
   "outputs": [
    {
     "name": "stdout",
     "output_type": "stream",
     "text": [
      "Normalization\n",
      "Normalization done\n"
     ]
    }
   ],
   "source": [
    "process.total_intensity_normalisation()"
   ]
  },
  {
   "cell_type": "code",
   "execution_count": 6,
   "metadata": {},
   "outputs": [
    {
     "name": "stdout",
     "output_type": "stream",
     "text": [
      "Extraction of labelled peptides\n",
      "Extraction Done Extracted Peptides: 15104\n"
     ]
    }
   ],
   "source": [
    "heavy = process.extract_heavy()"
   ]
  },
  {
   "cell_type": "code",
   "execution_count": 7,
   "metadata": {
    "tags": []
   },
   "outputs": [
    {
     "name": "stdout",
     "output_type": "stream",
     "text": [
      "Baseline correction\n",
      "['Master Protein Accessions']\n",
      "Master Protein Accessions\n"
     ]
    }
   ],
   "source": [
    "peptide_data = process.baseline_correction_peptide_return(heavy,random=True)"
   ]
  },
  {
   "cell_type": "code",
   "execution_count": 8,
   "metadata": {},
   "outputs": [
    {
     "name": "stdout",
     "output_type": "stream",
     "text": [
      "521\n",
      "783\n",
      "1046\n",
      "1307\n",
      "1567\n"
     ]
    }
   ],
   "source": [
    "defaults = ms.Defaults()\n",
    "hypo = ms.HypothesisTesting(defaults)\n",
    "conditions=['Light','0_DMSO','0_DMSO','0_DMSO','Tg','Tg','Tg','Boost']\n",
    "pairs = [['0_DMSO','Tg']]\n",
    "\n",
    "data = hypo.peptide_based_lmm_multicore(peptide_data,conditions=conditions,pairs=pairs,drop_missing=True)"
   ]
  },
  {
   "cell_type": "code",
   "execution_count": 10,
   "metadata": {},
   "outputs": [
    {
     "name": "stdout",
     "output_type": "stream",
     "text": [
      "Index(['Abundance: 126', 'Abundance: 127N', 'Abundance: 127C',\n",
      "       'Abundance: 128N', 'Abundance: 128C', 'Abundance: 129N',\n",
      "       'Abundance: 129C', 'Abundance: 131N', 'p_value_Tg_vs_0_DMSO',\n",
      "       'fold_change_Tg_vs_0_DMSO', 'q_value_Tg_vs_0_DMSO'],\n",
      "      dtype='object')\n"
     ]
    }
   ],
   "source": [
    "print(data.columns)"
   ]
  },
  {
   "cell_type": "code",
   "execution_count": 11,
   "metadata": {},
   "outputs": [],
   "source": [
    "data.to_excel(wd+\"JS55_fractionation_LMM_results.xlsx\",engine=\"openpyxl\")"
   ]
  }
 ],
 "metadata": {
  "kernelspec": {
   "display_name": "Python 3 (ipykernel)",
   "language": "python",
   "name": "python3"
  },
  "language_info": {
   "codemirror_mode": {
    "name": "ipython",
    "version": 3
   },
   "file_extension": ".py",
   "mimetype": "text/x-python",
   "name": "python",
   "nbconvert_exporter": "python",
   "pygments_lexer": "ipython3",
   "version": "3.11.3"
  },
  "metadata": {
   "interpreter": {
    "hash": "73c24c49d2b06808b1ea586578abddabc3a3d1605d247939e4ed8cc5ca9e99d0"
   }
  }
 },
 "nbformat": 4,
 "nbformat_minor": 2
}
